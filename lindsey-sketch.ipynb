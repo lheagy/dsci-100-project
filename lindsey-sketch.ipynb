{
 "cells": [
  {
   "cell_type": "markdown",
   "id": "1c2ded48-a71f-431f-8813-42144296e0a9",
   "metadata": {},
   "source": [
    "# The start of our group project"
   ]
  },
  {
   "cell_type": "code",
   "execution_count": 1,
   "id": "1672b4b1-ac5f-4be1-a940-f1c6647fe6c4",
   "metadata": {},
   "outputs": [],
   "source": [
    "import pandas as pd"
   ]
  },
  {
   "cell_type": "code",
   "execution_count": null,
   "id": "9c066fa7-08ac-4fd5-a0a6-e78d52fc4d34",
   "metadata": {},
   "outputs": [],
   "source": []
  }
 ],
 "metadata": {
  "kernelspec": {
   "display_name": "Python 3 (ipykernel)",
   "language": "python",
   "name": "python3"
  },
  "language_info": {
   "codemirror_mode": {
    "name": "ipython",
    "version": 3
   },
   "file_extension": ".py",
   "mimetype": "text/x-python",
   "name": "python",
   "nbconvert_exporter": "python",
   "pygments_lexer": "ipython3",
   "version": "3.10.8"
  }
 },
 "nbformat": 4,
 "nbformat_minor": 5
}
